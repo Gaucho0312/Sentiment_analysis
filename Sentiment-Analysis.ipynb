{
 "cells": [
  {
   "cell_type": "code",
   "execution_count": 1,
   "metadata": {},
   "outputs": [],
   "source": [
    "import re\n",
    "import nltk\n",
    "import tweepy\n",
    "import numpy as np\n",
    "import pandas as pd\n",
    "from textblob import TextBlob\n",
    "import matplotlib.pyplot as plt\n",
    "import csv\n",
    "import string\n",
    "\n",
    "from nltk.corpus import stopwords\n",
    "\n",
    "import gensim\n",
    "from matplotlib import pyplot as plt\n",
    "import tensorflow as tf\n",
    "\n",
    "from tensorflow.keras.utils import to_categorical\n",
    "from tensorflow.keras.preprocessing.text import Tokenizer\n",
    "from tensorflow.keras.preprocessing.sequence import pad_sequences\n",
    "from keras.preprocessing import sequence\n",
    "from tensorflow.keras.models import Sequential\n",
    "from tensorflow.keras.layers import Dense, Embedding, LSTM, Conv1D, MaxPool1D\n",
    "from sklearn.model_selection import train_test_split\n",
    "from sklearn.metrics import classification_report, accuracy_score, confusion_matrix"
   ]
  },
  {
   "cell_type": "code",
   "execution_count": 2,
   "metadata": {},
   "outputs": [],
   "source": [
    "data18 = pd.read_csv(\"2018.csv\")\n",
    "data19 = pd.read_csv(\"2019.csv\")\n",
    "data20 = pd.read_csv(\"2020.csv\")\n",
    "data21 = pd.read_csv(\"2021.csv\")"
   ]
  },
  {
   "cell_type": "code",
   "execution_count": 3,
   "metadata": {},
   "outputs": [],
   "source": [
    "data = pd.concat([data18, data19,data20, data21])"
   ]
  },
  {
   "cell_type": "code",
   "execution_count": 4,
   "metadata": {
    "scrolled": true
   },
   "outputs": [
    {
     "data": {
      "text/html": [
       "<div>\n",
       "<style scoped>\n",
       "    .dataframe tbody tr th:only-of-type {\n",
       "        vertical-align: middle;\n",
       "    }\n",
       "\n",
       "    .dataframe tbody tr th {\n",
       "        vertical-align: top;\n",
       "    }\n",
       "\n",
       "    .dataframe thead th {\n",
       "        text-align: right;\n",
       "    }\n",
       "</style>\n",
       "<table border=\"1\" class=\"dataframe\">\n",
       "  <thead>\n",
       "    <tr style=\"text-align: right;\">\n",
       "      <th></th>\n",
       "      <th>Unnamed: 0</th>\n",
       "      <th>id</th>\n",
       "      <th>conversation_id</th>\n",
       "      <th>created_at</th>\n",
       "      <th>date</th>\n",
       "      <th>timezone</th>\n",
       "      <th>place</th>\n",
       "      <th>tweet</th>\n",
       "      <th>language</th>\n",
       "      <th>hashtags</th>\n",
       "      <th>...</th>\n",
       "      <th>reply_to</th>\n",
       "      <th>retweet_date</th>\n",
       "      <th>translate</th>\n",
       "      <th>trans_src</th>\n",
       "      <th>trans_dest</th>\n",
       "      <th>time</th>\n",
       "      <th>mentions</th>\n",
       "      <th>replies_count</th>\n",
       "      <th>retweets_count</th>\n",
       "      <th>likes_count</th>\n",
       "    </tr>\n",
       "  </thead>\n",
       "  <tbody>\n",
       "    <tr>\n",
       "      <th>0</th>\n",
       "      <td>0.0</td>\n",
       "      <td>1079469237230493696</td>\n",
       "      <td>1079155749077475328</td>\n",
       "      <td>1546200496000.0</td>\n",
       "      <td>2018-12-30 20:08:16</td>\n",
       "      <td>0</td>\n",
       "      <td>NaN</td>\n",
       "      <td>@Ben757677 @vincent13031925 Thanks Tesla owner...</td>\n",
       "      <td>en</td>\n",
       "      <td>[]</td>\n",
       "      <td>...</td>\n",
       "      <td>[{'screen_name': 'vincent13031925', 'name': 'V...</td>\n",
       "      <td>NaN</td>\n",
       "      <td>NaN</td>\n",
       "      <td>NaN</td>\n",
       "      <td>NaN</td>\n",
       "      <td>NaN</td>\n",
       "      <td>NaN</td>\n",
       "      <td>NaN</td>\n",
       "      <td>NaN</td>\n",
       "      <td>NaN</td>\n",
       "    </tr>\n",
       "    <tr>\n",
       "      <th>1</th>\n",
       "      <td>1.0</td>\n",
       "      <td>1079459047252709377</td>\n",
       "      <td>1079457030060924928</td>\n",
       "      <td>1546198066000.0</td>\n",
       "      <td>2018-12-30 19:27:46</td>\n",
       "      <td>0</td>\n",
       "      <td>NaN</td>\n",
       "      <td>@Grimezsz Turns out if you take Dayquil, you e...</td>\n",
       "      <td>en</td>\n",
       "      <td>[]</td>\n",
       "      <td>...</td>\n",
       "      <td>[{'screen_name': 'Grimezsz', 'name': '☾laire d...</td>\n",
       "      <td>NaN</td>\n",
       "      <td>NaN</td>\n",
       "      <td>NaN</td>\n",
       "      <td>NaN</td>\n",
       "      <td>NaN</td>\n",
       "      <td>NaN</td>\n",
       "      <td>NaN</td>\n",
       "      <td>NaN</td>\n",
       "      <td>NaN</td>\n",
       "    </tr>\n",
       "    <tr>\n",
       "      <th>2</th>\n",
       "      <td>2.0</td>\n",
       "      <td>1078716366591483904</td>\n",
       "      <td>1078716366591483904</td>\n",
       "      <td>1546020998000.0</td>\n",
       "      <td>2018-12-28 18:16:38</td>\n",
       "      <td>0</td>\n",
       "      <td>NaN</td>\n",
       "      <td>Excited to have Larry Ellison &amp;amp; Kathleen W...</td>\n",
       "      <td>en</td>\n",
       "      <td>[]</td>\n",
       "      <td>...</td>\n",
       "      <td>[]</td>\n",
       "      <td>NaN</td>\n",
       "      <td>NaN</td>\n",
       "      <td>NaN</td>\n",
       "      <td>NaN</td>\n",
       "      <td>NaN</td>\n",
       "      <td>NaN</td>\n",
       "      <td>NaN</td>\n",
       "      <td>NaN</td>\n",
       "      <td>NaN</td>\n",
       "    </tr>\n",
       "    <tr>\n",
       "      <th>3</th>\n",
       "      <td>3.0</td>\n",
       "      <td>1078529476018008064</td>\n",
       "      <td>1078529330492321793</td>\n",
       "      <td>1545976439000.0</td>\n",
       "      <td>2018-12-28 05:53:59</td>\n",
       "      <td>0</td>\n",
       "      <td>NaN</td>\n",
       "      <td>@NutmegTheRed @Tesla Ok</td>\n",
       "      <td>und</td>\n",
       "      <td>[]</td>\n",
       "      <td>...</td>\n",
       "      <td>[{'screen_name': 'Tesla', 'name': 'Tesla', 'id...</td>\n",
       "      <td>NaN</td>\n",
       "      <td>NaN</td>\n",
       "      <td>NaN</td>\n",
       "      <td>NaN</td>\n",
       "      <td>NaN</td>\n",
       "      <td>NaN</td>\n",
       "      <td>NaN</td>\n",
       "      <td>NaN</td>\n",
       "      <td>NaN</td>\n",
       "    </tr>\n",
       "    <tr>\n",
       "      <th>4</th>\n",
       "      <td>4.0</td>\n",
       "      <td>1078395092090699776</td>\n",
       "      <td>1078383289356902401</td>\n",
       "      <td>1545944400000.0</td>\n",
       "      <td>2018-12-27 21:00:00</td>\n",
       "      <td>0</td>\n",
       "      <td>NaN</td>\n",
       "      <td>@westcoastbill Tesla team did a great job!</td>\n",
       "      <td>en</td>\n",
       "      <td>[]</td>\n",
       "      <td>...</td>\n",
       "      <td>[{'screen_name': 'westcoastbill', 'name': 'bil...</td>\n",
       "      <td>NaN</td>\n",
       "      <td>NaN</td>\n",
       "      <td>NaN</td>\n",
       "      <td>NaN</td>\n",
       "      <td>NaN</td>\n",
       "      <td>NaN</td>\n",
       "      <td>NaN</td>\n",
       "      <td>NaN</td>\n",
       "      <td>NaN</td>\n",
       "    </tr>\n",
       "  </tbody>\n",
       "</table>\n",
       "<p>5 rows × 44 columns</p>\n",
       "</div>"
      ],
      "text/plain": [
       "   Unnamed: 0                   id      conversation_id       created_at  \\\n",
       "0         0.0  1079469237230493696  1079155749077475328  1546200496000.0   \n",
       "1         1.0  1079459047252709377  1079457030060924928  1546198066000.0   \n",
       "2         2.0  1078716366591483904  1078716366591483904  1546020998000.0   \n",
       "3         3.0  1078529476018008064  1078529330492321793  1545976439000.0   \n",
       "4         4.0  1078395092090699776  1078383289356902401  1545944400000.0   \n",
       "\n",
       "                  date  timezone  place  \\\n",
       "0  2018-12-30 20:08:16         0    NaN   \n",
       "1  2018-12-30 19:27:46         0    NaN   \n",
       "2  2018-12-28 18:16:38         0    NaN   \n",
       "3  2018-12-28 05:53:59         0    NaN   \n",
       "4  2018-12-27 21:00:00         0    NaN   \n",
       "\n",
       "                                               tweet language hashtags  ...  \\\n",
       "0  @Ben757677 @vincent13031925 Thanks Tesla owner...       en       []  ...   \n",
       "1  @Grimezsz Turns out if you take Dayquil, you e...       en       []  ...   \n",
       "2  Excited to have Larry Ellison &amp; Kathleen W...       en       []  ...   \n",
       "3                            @NutmegTheRed @Tesla Ok      und       []  ...   \n",
       "4         @westcoastbill Tesla team did a great job!       en       []  ...   \n",
       "\n",
       "                                            reply_to  retweet_date  translate  \\\n",
       "0  [{'screen_name': 'vincent13031925', 'name': 'V...           NaN        NaN   \n",
       "1  [{'screen_name': 'Grimezsz', 'name': '☾laire d...           NaN        NaN   \n",
       "2                                                 []           NaN        NaN   \n",
       "3  [{'screen_name': 'Tesla', 'name': 'Tesla', 'id...           NaN        NaN   \n",
       "4  [{'screen_name': 'westcoastbill', 'name': 'bil...           NaN        NaN   \n",
       "\n",
       "  trans_src trans_dest  time  mentions replies_count retweets_count  \\\n",
       "0       NaN        NaN   NaN       NaN           NaN            NaN   \n",
       "1       NaN        NaN   NaN       NaN           NaN            NaN   \n",
       "2       NaN        NaN   NaN       NaN           NaN            NaN   \n",
       "3       NaN        NaN   NaN       NaN           NaN            NaN   \n",
       "4       NaN        NaN   NaN       NaN           NaN            NaN   \n",
       "\n",
       "  likes_count  \n",
       "0         NaN  \n",
       "1         NaN  \n",
       "2         NaN  \n",
       "3         NaN  \n",
       "4         NaN  \n",
       "\n",
       "[5 rows x 44 columns]"
      ]
     },
     "execution_count": 4,
     "metadata": {},
     "output_type": "execute_result"
    }
   ],
   "source": [
    "data.head(5)"
   ]
  },
  {
   "cell_type": "code",
   "execution_count": 5,
   "metadata": {},
   "outputs": [],
   "source": [
    "#noticed there was some data points from before the desired date, here i am dropping those datapoints\n",
    "data = data[~(data['date'] < '2018-01-01')]"
   ]
  },
  {
   "cell_type": "code",
   "execution_count": 6,
   "metadata": {},
   "outputs": [
    {
     "data": {
      "text/plain": [
       "(19095, 44)"
      ]
     },
     "execution_count": 6,
     "metadata": {},
     "output_type": "execute_result"
    }
   ],
   "source": [
    "data.shape"
   ]
  },
  {
   "cell_type": "code",
   "execution_count": 7,
   "metadata": {},
   "outputs": [
    {
     "data": {
      "text/plain": [
       "Unnamed: 0          3115\n",
       "id                     0\n",
       "conversation_id        0\n",
       "created_at             0\n",
       "date                   0\n",
       "timezone               0\n",
       "place              19095\n",
       "tweet                  0\n",
       "language               0\n",
       "hashtags               0\n",
       "cashtags               0\n",
       "user_id                0\n",
       "user_id_str         3115\n",
       "username               0\n",
       "name                   0\n",
       "day                 3115\n",
       "hour                3115\n",
       "link                   0\n",
       "urls                   0\n",
       "photos                 0\n",
       "video                  0\n",
       "thumbnail          17911\n",
       "retweet                0\n",
       "nlikes              3115\n",
       "nreplies            3115\n",
       "nretweets           3115\n",
       "quote_url          18430\n",
       "search              3115\n",
       "near               19095\n",
       "geo                19095\n",
       "source             19095\n",
       "user_rt_id         19095\n",
       "user_rt            19095\n",
       "retweet_id         19095\n",
       "reply_to               0\n",
       "retweet_date       19095\n",
       "translate          19095\n",
       "trans_src          19095\n",
       "trans_dest         19095\n",
       "time               15980\n",
       "mentions           15980\n",
       "replies_count      15980\n",
       "retweets_count     15980\n",
       "likes_count        15980\n",
       "dtype: int64"
      ]
     },
     "execution_count": 7,
     "metadata": {},
     "output_type": "execute_result"
    }
   ],
   "source": [
    "data.isna().sum()"
   ]
  },
  {
   "cell_type": "code",
   "execution_count": 8,
   "metadata": {},
   "outputs": [
    {
     "data": {
      "text/plain": [
       "Index(['Unnamed: 0', 'id', 'conversation_id', 'created_at', 'date', 'timezone',\n",
       "       'place', 'tweet', 'language', 'hashtags', 'cashtags', 'user_id',\n",
       "       'user_id_str', 'username', 'name', 'day', 'hour', 'link', 'urls',\n",
       "       'photos', 'video', 'thumbnail', 'retweet', 'nlikes', 'nreplies',\n",
       "       'nretweets', 'quote_url', 'search', 'near', 'geo', 'source',\n",
       "       'user_rt_id', 'user_rt', 'retweet_id', 'reply_to', 'retweet_date',\n",
       "       'translate', 'trans_src', 'trans_dest', 'time', 'mentions',\n",
       "       'replies_count', 'retweets_count', 'likes_count'],\n",
       "      dtype='object')"
      ]
     },
     "execution_count": 8,
     "metadata": {},
     "output_type": "execute_result"
    }
   ],
   "source": [
    "data.columns"
   ]
  },
  {
   "cell_type": "code",
   "execution_count": 9,
   "metadata": {},
   "outputs": [
    {
     "data": {
      "text/plain": [
       "0       @Ben757677 @vincent13031925 Thanks Tesla owner...\n",
       "1       @Grimezsz Turns out if you take Dayquil, you e...\n",
       "2       Excited to have Larry Ellison &amp; Kathleen W...\n",
       "3                                 @NutmegTheRed @Tesla Ok\n",
       "4              @westcoastbill Tesla team did a great job!\n",
       "                              ...                        \n",
       "3110    @flcnhvy Tesla is responsible for 2/3 of all t...\n",
       "3111    So proud of the Tesla team for achieving this ...\n",
       "3112    @newscientist Um, we have giant fusion reactor...\n",
       "3113    @comma_ai Tesla Full Self-Driving will work at...\n",
       "3114    @PPathole Dojo isn’t needed, but will make sel...\n",
       "Name: tweet, Length: 19095, dtype: object"
      ]
     },
     "execution_count": 9,
     "metadata": {},
     "output_type": "execute_result"
    }
   ],
   "source": [
    "data[\"tweet\"]"
   ]
  },
  {
   "cell_type": "code",
   "execution_count": 10,
   "metadata": {},
   "outputs": [
    {
     "data": {
      "text/plain": [
       "0                                 1546200496000.0\n",
       "1                                 1546198066000.0\n",
       "2                                 1546020998000.0\n",
       "3                                 1545976439000.0\n",
       "4                                 1545944400000.0\n",
       "                          ...                    \n",
       "3110    2021-01-02 18:59:09 Arabian Standard Time\n",
       "3111    2021-01-02 18:51:49 Arabian Standard Time\n",
       "3112    2021-01-02 16:23:28 Arabian Standard Time\n",
       "3113    2021-01-02 07:20:48 Arabian Standard Time\n",
       "3114    2021-01-01 04:58:30 Arabian Standard Time\n",
       "Name: created_at, Length: 19095, dtype: object"
      ]
     },
     "execution_count": 10,
     "metadata": {},
     "output_type": "execute_result"
    }
   ],
   "source": [
    "data[\"created_at\"]"
   ]
  },
  {
   "cell_type": "code",
   "execution_count": 11,
   "metadata": {},
   "outputs": [
    {
     "data": {
      "text/plain": [
       "0       2018-12-30 20:08:16\n",
       "1       2018-12-30 19:27:46\n",
       "2       2018-12-28 18:16:38\n",
       "3       2018-12-28 05:53:59\n",
       "4       2018-12-27 21:00:00\n",
       "               ...         \n",
       "3110             2021-01-02\n",
       "3111             2021-01-02\n",
       "3112             2021-01-02\n",
       "3113             2021-01-02\n",
       "3114             2021-01-01\n",
       "Name: date, Length: 19095, dtype: object"
      ]
     },
     "execution_count": 11,
     "metadata": {},
     "output_type": "execute_result"
    }
   ],
   "source": [
    "data[\"date\"]"
   ]
  },
  {
   "cell_type": "code",
   "execution_count": 12,
   "metadata": {},
   "outputs": [
    {
     "name": "stderr",
     "output_type": "stream",
     "text": [
      "<ipython-input-12-a5766f8aca63>:1: FutureWarning: Passing a negative integer is deprecated in version 1.0 and will not be supported in future version. Instead, use None to not limit the column width.\n",
      "  pd.set_option(\"display.max_colwidth\", -1)\n"
     ]
    },
    {
     "data": {
      "text/html": [
       "<div>\n",
       "<style scoped>\n",
       "    .dataframe tbody tr th:only-of-type {\n",
       "        vertical-align: middle;\n",
       "    }\n",
       "\n",
       "    .dataframe tbody tr th {\n",
       "        vertical-align: top;\n",
       "    }\n",
       "\n",
       "    .dataframe thead th {\n",
       "        text-align: right;\n",
       "    }\n",
       "</style>\n",
       "<table border=\"1\" class=\"dataframe\">\n",
       "  <thead>\n",
       "    <tr style=\"text-align: right;\">\n",
       "      <th></th>\n",
       "      <th>Unnamed: 0</th>\n",
       "      <th>id</th>\n",
       "      <th>conversation_id</th>\n",
       "      <th>created_at</th>\n",
       "      <th>date</th>\n",
       "      <th>timezone</th>\n",
       "      <th>place</th>\n",
       "      <th>tweet</th>\n",
       "      <th>language</th>\n",
       "      <th>hashtags</th>\n",
       "      <th>...</th>\n",
       "      <th>reply_to</th>\n",
       "      <th>retweet_date</th>\n",
       "      <th>translate</th>\n",
       "      <th>trans_src</th>\n",
       "      <th>trans_dest</th>\n",
       "      <th>time</th>\n",
       "      <th>mentions</th>\n",
       "      <th>replies_count</th>\n",
       "      <th>retweets_count</th>\n",
       "      <th>likes_count</th>\n",
       "    </tr>\n",
       "  </thead>\n",
       "  <tbody>\n",
       "    <tr>\n",
       "      <th>0</th>\n",
       "      <td>0.0</td>\n",
       "      <td>1079469237230493696</td>\n",
       "      <td>1079155749077475328</td>\n",
       "      <td>1546200496000.0</td>\n",
       "      <td>2018-12-30 20:08:16</td>\n",
       "      <td>0</td>\n",
       "      <td>NaN</td>\n",
       "      <td>@Ben757677 @vincent13031925 Thanks Tesla owners in China! Looking forward to visiting soon for the groundbreaking of Gigafactory Shanghai!</td>\n",
       "      <td>en</td>\n",
       "      <td>[]</td>\n",
       "      <td>...</td>\n",
       "      <td>[{'screen_name': 'vincent13031925', 'name': 'Vincent 🚀\\U0001f7e0', 'id': '1689516060'}]</td>\n",
       "      <td>NaN</td>\n",
       "      <td>NaN</td>\n",
       "      <td>NaN</td>\n",
       "      <td>NaN</td>\n",
       "      <td>NaN</td>\n",
       "      <td>NaN</td>\n",
       "      <td>NaN</td>\n",
       "      <td>NaN</td>\n",
       "      <td>NaN</td>\n",
       "    </tr>\n",
       "    <tr>\n",
       "      <th>1</th>\n",
       "      <td>1.0</td>\n",
       "      <td>1079459047252709377</td>\n",
       "      <td>1079457030060924928</td>\n",
       "      <td>1546198066000.0</td>\n",
       "      <td>2018-12-30 19:27:46</td>\n",
       "      <td>0</td>\n",
       "      <td>NaN</td>\n",
       "      <td>@Grimezsz Turns out if you take Dayquil, you exit The Matrix</td>\n",
       "      <td>en</td>\n",
       "      <td>[]</td>\n",
       "      <td>...</td>\n",
       "      <td>[{'screen_name': 'Grimezsz', 'name': '☾laire de ☾une', 'id': '276540738'}]</td>\n",
       "      <td>NaN</td>\n",
       "      <td>NaN</td>\n",
       "      <td>NaN</td>\n",
       "      <td>NaN</td>\n",
       "      <td>NaN</td>\n",
       "      <td>NaN</td>\n",
       "      <td>NaN</td>\n",
       "      <td>NaN</td>\n",
       "      <td>NaN</td>\n",
       "    </tr>\n",
       "    <tr>\n",
       "      <th>2</th>\n",
       "      <td>2.0</td>\n",
       "      <td>1078716366591483904</td>\n",
       "      <td>1078716366591483904</td>\n",
       "      <td>1546020998000.0</td>\n",
       "      <td>2018-12-28 18:16:38</td>\n",
       "      <td>0</td>\n",
       "      <td>NaN</td>\n",
       "      <td>Excited to have Larry Ellison &amp;amp; Kathleen Wilson-Thompson join the Tesla board!  https://t.co/CQyvkgsCsT</td>\n",
       "      <td>en</td>\n",
       "      <td>[]</td>\n",
       "      <td>...</td>\n",
       "      <td>[]</td>\n",
       "      <td>NaN</td>\n",
       "      <td>NaN</td>\n",
       "      <td>NaN</td>\n",
       "      <td>NaN</td>\n",
       "      <td>NaN</td>\n",
       "      <td>NaN</td>\n",
       "      <td>NaN</td>\n",
       "      <td>NaN</td>\n",
       "      <td>NaN</td>\n",
       "    </tr>\n",
       "    <tr>\n",
       "      <th>3</th>\n",
       "      <td>3.0</td>\n",
       "      <td>1078529476018008064</td>\n",
       "      <td>1078529330492321793</td>\n",
       "      <td>1545976439000.0</td>\n",
       "      <td>2018-12-28 05:53:59</td>\n",
       "      <td>0</td>\n",
       "      <td>NaN</td>\n",
       "      <td>@NutmegTheRed @Tesla Ok</td>\n",
       "      <td>und</td>\n",
       "      <td>[]</td>\n",
       "      <td>...</td>\n",
       "      <td>[{'screen_name': 'Tesla', 'name': 'Tesla', 'id': '13298072'}]</td>\n",
       "      <td>NaN</td>\n",
       "      <td>NaN</td>\n",
       "      <td>NaN</td>\n",
       "      <td>NaN</td>\n",
       "      <td>NaN</td>\n",
       "      <td>NaN</td>\n",
       "      <td>NaN</td>\n",
       "      <td>NaN</td>\n",
       "      <td>NaN</td>\n",
       "    </tr>\n",
       "    <tr>\n",
       "      <th>4</th>\n",
       "      <td>4.0</td>\n",
       "      <td>1078395092090699776</td>\n",
       "      <td>1078383289356902401</td>\n",
       "      <td>1545944400000.0</td>\n",
       "      <td>2018-12-27 21:00:00</td>\n",
       "      <td>0</td>\n",
       "      <td>NaN</td>\n",
       "      <td>@westcoastbill Tesla team did a great job!</td>\n",
       "      <td>en</td>\n",
       "      <td>[]</td>\n",
       "      <td>...</td>\n",
       "      <td>[{'screen_name': 'westcoastbill', 'name': 'bill lee 21x.eth 🚽', 'id': '692023'}]</td>\n",
       "      <td>NaN</td>\n",
       "      <td>NaN</td>\n",
       "      <td>NaN</td>\n",
       "      <td>NaN</td>\n",
       "      <td>NaN</td>\n",
       "      <td>NaN</td>\n",
       "      <td>NaN</td>\n",
       "      <td>NaN</td>\n",
       "      <td>NaN</td>\n",
       "    </tr>\n",
       "  </tbody>\n",
       "</table>\n",
       "<p>5 rows × 44 columns</p>\n",
       "</div>"
      ],
      "text/plain": [
       "   Unnamed: 0                   id      conversation_id       created_at  \\\n",
       "0  0.0         1079469237230493696  1079155749077475328  1546200496000.0   \n",
       "1  1.0         1079459047252709377  1079457030060924928  1546198066000.0   \n",
       "2  2.0         1078716366591483904  1078716366591483904  1546020998000.0   \n",
       "3  3.0         1078529476018008064  1078529330492321793  1545976439000.0   \n",
       "4  4.0         1078395092090699776  1078383289356902401  1545944400000.0   \n",
       "\n",
       "                  date  timezone  place  \\\n",
       "0  2018-12-30 20:08:16  0        NaN      \n",
       "1  2018-12-30 19:27:46  0        NaN      \n",
       "2  2018-12-28 18:16:38  0        NaN      \n",
       "3  2018-12-28 05:53:59  0        NaN      \n",
       "4  2018-12-27 21:00:00  0        NaN      \n",
       "\n",
       "                                                                                                                                        tweet  \\\n",
       "0  @Ben757677 @vincent13031925 Thanks Tesla owners in China! Looking forward to visiting soon for the groundbreaking of Gigafactory Shanghai!   \n",
       "1  @Grimezsz Turns out if you take Dayquil, you exit The Matrix                                                                                 \n",
       "2  Excited to have Larry Ellison &amp; Kathleen Wilson-Thompson join the Tesla board!  https://t.co/CQyvkgsCsT                                  \n",
       "3  @NutmegTheRed @Tesla Ok                                                                                                                      \n",
       "4  @westcoastbill Tesla team did a great job!                                                                                                   \n",
       "\n",
       "  language hashtags  ...  \\\n",
       "0  en       []       ...   \n",
       "1  en       []       ...   \n",
       "2  en       []       ...   \n",
       "3  und      []       ...   \n",
       "4  en       []       ...   \n",
       "\n",
       "                                                                                  reply_to  \\\n",
       "0  [{'screen_name': 'vincent13031925', 'name': 'Vincent 🚀\\U0001f7e0', 'id': '1689516060'}]   \n",
       "1  [{'screen_name': 'Grimezsz', 'name': '☾laire de ☾une', 'id': '276540738'}]                \n",
       "2  []                                                                                        \n",
       "3  [{'screen_name': 'Tesla', 'name': 'Tesla', 'id': '13298072'}]                             \n",
       "4  [{'screen_name': 'westcoastbill', 'name': 'bill lee 21x.eth 🚽', 'id': '692023'}]          \n",
       "\n",
       "   retweet_date  translate trans_src trans_dest  time  mentions replies_count  \\\n",
       "0 NaN           NaN        NaN       NaN         NaN   NaN      NaN             \n",
       "1 NaN           NaN        NaN       NaN         NaN   NaN      NaN             \n",
       "2 NaN           NaN        NaN       NaN         NaN   NaN      NaN             \n",
       "3 NaN           NaN        NaN       NaN         NaN   NaN      NaN             \n",
       "4 NaN           NaN        NaN       NaN         NaN   NaN      NaN             \n",
       "\n",
       "  retweets_count likes_count  \n",
       "0 NaN            NaN          \n",
       "1 NaN            NaN          \n",
       "2 NaN            NaN          \n",
       "3 NaN            NaN          \n",
       "4 NaN            NaN          \n",
       "\n",
       "[5 rows x 44 columns]"
      ]
     },
     "execution_count": 12,
     "metadata": {},
     "output_type": "execute_result"
    }
   ],
   "source": [
    "pd.set_option(\"display.max_colwidth\", -1)\n",
    "data.head(5)"
   ]
  },
  {
   "cell_type": "code",
   "execution_count": 13,
   "metadata": {},
   "outputs": [],
   "source": [
    "data = data[[\"date\", \"tweet\"]]"
   ]
  },
  {
   "cell_type": "code",
   "execution_count": 14,
   "metadata": {},
   "outputs": [],
   "source": [
    "#SettingWithCopyWarning https://pandas.pydata.org/pandas-docs/stable/user_guide/indexing.html#returning-a-view-versus-a-copy\n",
    "pd.options.mode.chained_assignment = None\n",
    "\n",
    "def clean_tweet(tweet):\n",
    "  tweet = re.sub(\"@[A-Za-z0–9]+\", \"\", tweet) \n",
    "  tweet = re.sub(\"#\", \"\", tweet) \n",
    "  tweet = re.sub(\"RT[\\s]+\", \"\", tweet)\n",
    "  tweet = re.sub(\"https?:\\/\\/\\S+\", \"\", tweet)\n",
    "  return tweet\n",
    " \n",
    "data[\"tweet\"] = data[\"tweet\"].apply(clean_tweet)"
   ]
  },
  {
   "cell_type": "code",
   "execution_count": 15,
   "metadata": {},
   "outputs": [],
   "source": [
    "data[\"tweet\"] = data.iloc[:, 1].str.lower()"
   ]
  },
  {
   "cell_type": "code",
   "execution_count": 16,
   "metadata": {},
   "outputs": [],
   "source": [
    "stop_words = set(stopwords.words(\"english\"))\n",
    "\n",
    "def remove_stopwords(tweet):\n",
    "    return \" \".join([word for word in str(tweet).split() if word not in stop_words])\n",
    "data[\"tweet\"] = data[\"tweet\"].apply(remove_stopwords)"
   ]
  },
  {
   "cell_type": "code",
   "execution_count": 17,
   "metadata": {},
   "outputs": [],
   "source": [
    "english_punctuations = string.punctuation\n",
    "punctuations_list = english_punctuations\n",
    "\n",
    "def remove_punctuation(tweet):\n",
    "    translator = str.maketrans(\"\", \"\", punctuations_list)\n",
    "    return tweet.translate(translator)\n",
    "data[\"tweet\"]= data[\"tweet\"].apply(remove_punctuation)"
   ]
  },
  {
   "cell_type": "code",
   "execution_count": 18,
   "metadata": {},
   "outputs": [],
   "source": [
    "def remove_repeat_letter(tweet):\n",
    "    return re.sub(r\"(.)1+\", r\"1\", tweet)\n",
    "data[\"tweet\"] = data[\"tweet\"].apply(remove_repeat_letter)"
   ]
  },
  {
   "cell_type": "code",
   "execution_count": 19,
   "metadata": {},
   "outputs": [],
   "source": [
    "def remove_number(data):\n",
    "    return re.sub(\"[0-9]+\", \"\", data)\n",
    "data[\"tweet\"] = data[\"tweet\"].apply(remove_number)"
   ]
  },
  {
   "cell_type": "code",
   "execution_count": 20,
   "metadata": {},
   "outputs": [],
   "source": [
    "lm = nltk.WordNetLemmatizer()\n",
    "def lemmatizing(data):\n",
    "    text = [lm.lemmatize(word) for word in data]\n",
    "    return data\n",
    "data[\"tweet\"] = data[\"tweet\"].apply(lemmatizing)"
   ]
  },
  {
   "cell_type": "code",
   "execution_count": 21,
   "metadata": {},
   "outputs": [],
   "source": [
    "def subj(tweet):\n",
    "    return TextBlob(tweet).sentiment.subjectivity\n",
    " \n",
    "\n",
    "def pola(tweet):\n",
    "    return TextBlob(tweet).sentiment.polarity\n",
    " \n",
    "data[\"Subjectivity\"] = data[\"tweet\"].apply(subj)\n",
    "data[\"Polarity\"] = data[\"tweet\"].apply(pola)"
   ]
  },
  {
   "cell_type": "code",
   "execution_count": 22,
   "metadata": {},
   "outputs": [],
   "source": [
    "# now let's classify these tweets based on their sentiment(polarity)\n",
    "def sentiment(polarity):\n",
    "    result = \"\"\n",
    "    if polarity > 0:\n",
    "        result = \"Positive\"\n",
    "    elif polarity == 0:\n",
    "        result = \"Neutral\"\n",
    "    else:\n",
    "        result = \"Negative\"\n",
    "    return result\n",
    " \n",
    "data[\"Sentiment\"] = data.Polarity.apply(sentiment)"
   ]
  },
  {
   "cell_type": "code",
   "execution_count": 23,
   "metadata": {},
   "outputs": [
    {
     "data": {
      "image/png": "[encoded data removed]",
      "text/plain": [
       "<Figure size 432x288 with 1 Axes>"
      ]
     },
     "metadata": {
      "needs_background": "light"
     },
     "output_type": "display_data"
    }
   ],
   "source": [
    "data.Sentiment.value_counts().plot(kind='bar', color='blue')\n",
    "plt.title('Sentiment Classification')\n",
    "plt.show()"
   ]
  },
  {
   "cell_type": "code",
   "execution_count": 24,
   "metadata": {},
   "outputs": [
    {
     "data": {
      "text/html": [
       "<div>\n",
       "<style scoped>\n",
       "    .dataframe tbody tr th:only-of-type {\n",
       "        vertical-align: middle;\n",
       "    }\n",
       "\n",
       "    .dataframe tbody tr th {\n",
       "        vertical-align: top;\n",
       "    }\n",
       "\n",
       "    .dataframe thead th {\n",
       "        text-align: right;\n",
       "    }\n",
       "</style>\n",
       "<table border=\"1\" class=\"dataframe\">\n",
       "  <thead>\n",
       "    <tr style=\"text-align: right;\">\n",
       "      <th></th>\n",
       "      <th>date</th>\n",
       "      <th>tweet</th>\n",
       "      <th>Subjectivity</th>\n",
       "      <th>Polarity</th>\n",
       "      <th>Sentiment</th>\n",
       "    </tr>\n",
       "  </thead>\n",
       "  <tbody>\n",
       "    <tr>\n",
       "      <th>0</th>\n",
       "      <td>2018-12-30 20:08:16</td>\n",
       "      <td>thanks tesla owners china looking forward visiting soon groundbreaking gigafactory shanghai</td>\n",
       "      <td>0.20</td>\n",
       "      <td>0.200</td>\n",
       "      <td>Positive</td>\n",
       "    </tr>\n",
       "    <tr>\n",
       "      <th>1</th>\n",
       "      <td>2018-12-30 19:27:46</td>\n",
       "      <td>turns take dayquil exit matrix</td>\n",
       "      <td>0.00</td>\n",
       "      <td>0.000</td>\n",
       "      <td>Neutral</td>\n",
       "    </tr>\n",
       "    <tr>\n",
       "      <th>2</th>\n",
       "      <td>2018-12-28 18:16:38</td>\n",
       "      <td>excited larry ellison amp kathleen wilsonthompson join tesla board</td>\n",
       "      <td>0.75</td>\n",
       "      <td>0.375</td>\n",
       "      <td>Positive</td>\n",
       "    </tr>\n",
       "    <tr>\n",
       "      <th>3</th>\n",
       "      <td>2018-12-28 05:53:59</td>\n",
       "      <td>ok</td>\n",
       "      <td>0.50</td>\n",
       "      <td>0.500</td>\n",
       "      <td>Positive</td>\n",
       "    </tr>\n",
       "    <tr>\n",
       "      <th>4</th>\n",
       "      <td>2018-12-27 21:00:00</td>\n",
       "      <td>tesla team great job</td>\n",
       "      <td>0.75</td>\n",
       "      <td>0.800</td>\n",
       "      <td>Positive</td>\n",
       "    </tr>\n",
       "  </tbody>\n",
       "</table>\n",
       "</div>"
      ],
      "text/plain": [
       "                  date  \\\n",
       "0  2018-12-30 20:08:16   \n",
       "1  2018-12-30 19:27:46   \n",
       "2  2018-12-28 18:16:38   \n",
       "3  2018-12-28 05:53:59   \n",
       "4  2018-12-27 21:00:00   \n",
       "\n",
       "                                                                                          tweet  \\\n",
       "0   thanks tesla owners china looking forward visiting soon groundbreaking gigafactory shanghai   \n",
       "1  turns take dayquil exit matrix                                                                 \n",
       "2  excited larry ellison amp kathleen wilsonthompson join tesla board                             \n",
       "3  ok                                                                                             \n",
       "4  tesla team great job                                                                           \n",
       "\n",
       "   Subjectivity  Polarity Sentiment  \n",
       "0  0.20          0.200     Positive  \n",
       "1  0.00          0.000     Neutral   \n",
       "2  0.75          0.375     Positive  \n",
       "3  0.50          0.500     Positive  \n",
       "4  0.75          0.800     Positive  "
      ]
     },
     "execution_count": 24,
     "metadata": {},
     "output_type": "execute_result"
    }
   ],
   "source": [
    "data.head(5)"
   ]
  },
  {
   "cell_type": "code",
   "execution_count": 25,
   "metadata": {},
   "outputs": [],
   "source": [
    "data = data.drop([\"Subjectivity\"], axis = 1)\n",
    "data = data.drop([\"Polarity\"], axis = 1)\n",
    "\n"
   ]
  },
  {
   "cell_type": "code",
   "execution_count": 26,
   "metadata": {},
   "outputs": [],
   "source": [
    "#data.to_csv(\"Elon tweets 2018-2021.csv\")"
   ]
  },
  {
   "cell_type": "code",
   "execution_count": 28,
   "metadata": {},
   "outputs": [],
   "source": [
    "max_fatures = 2000\n",
    "tokenizer = Tokenizer(num_words=max_fatures, split=\" \")\n",
    "tokenizer.fit_on_texts(data[\"tweet\"].values)\n",
    "X = tokenizer.texts_to_sequences(data[\"tweet\"].values)\n",
    "X = pad_sequences(X)"
   ]
  },
  {
   "cell_type": "code",
   "execution_count": 29,
   "metadata": {},
   "outputs": [],
   "source": [
    "model = Sequential()\n",
    "model.add(Embedding(max_fatures, 64, input_length = X.shape[1]))\n",
    "model.add(LSTM(units = 32))\n",
    "model.add(Dense(3, activation = 'softmax'))\n",
    "model.compile(optimizer = 'adam', loss = 'categorical_crossentropy', metrics = ['acc'])"
   ]
  },
  {
   "cell_type": "code",
   "execution_count": 30,
   "metadata": {},
   "outputs": [
    {
     "name": "stdout",
     "output_type": "stream",
     "text": [
      "(15276, 35) (15276, 3)\n",
      "(3819, 35) (3819, 3)\n"
     ]
    }
   ],
   "source": [
    "y = pd.get_dummies(data['Sentiment']).values\n",
    "X_train, X_test, y_train, y_test = train_test_split(X,y, test_size = 0.2, random_state = 100)\n",
    "print(X_train.shape,y_train.shape)\n",
    "print(X_test.shape,y_test.shape)"
   ]
  },
  {
   "cell_type": "code",
   "execution_count": 31,
   "metadata": {},
   "outputs": [
    {
     "name": "stdout",
     "output_type": "stream",
     "text": [
      "Model: \"sequential\"\n",
      "_________________________________________________________________\n",
      " Layer (type)                Output Shape              Param #   \n",
      "=================================================================\n",
      " embedding (Embedding)       (None, 35, 64)            128000    \n",
      "                                                                 \n",
      " lstm (LSTM)                 (None, 32)                12416     \n",
      "                                                                 \n",
      " dense (Dense)               (None, 3)                 99        \n",
      "                                                                 \n",
      "=================================================================\n",
      "Total params: 140,515\n",
      "Trainable params: 140,515\n",
      "Non-trainable params: 0\n",
      "_________________________________________________________________\n"
     ]
    }
   ],
   "source": [
    "model.summary()"
   ]
  },
  {
   "cell_type": "code",
   "execution_count": 32,
   "metadata": {},
   "outputs": [
    {
     "name": "stdout",
     "output_type": "stream",
     "text": [
      "Epoch 1/5\n",
      "406/406 - 5s - loss: 0.5875 - acc: 0.7608 - val_loss: 0.3125 - val_acc: 0.8944 - 5s/epoch - 12ms/step\n",
      "Epoch 2/5\n",
      "406/406 - 3s - loss: 0.2149 - acc: 0.9348 - val_loss: 0.2120 - val_acc: 0.9372 - 3s/epoch - 7ms/step\n",
      "Epoch 3/5\n",
      "406/406 - 3s - loss: 0.1385 - acc: 0.9614 - val_loss: 0.2067 - val_acc: 0.9407 - 3s/epoch - 7ms/step\n",
      "Epoch 4/5\n",
      "406/406 - 3s - loss: 0.1077 - acc: 0.9730 - val_loss: 0.2014 - val_acc: 0.9476 - 3s/epoch - 7ms/step\n",
      "Epoch 5/5\n",
      "406/406 - 3s - loss: 0.0900 - acc: 0.9767 - val_loss: 0.2319 - val_acc: 0.9411 - 3s/epoch - 7ms/step\n"
     ]
    }
   ],
   "source": [
    "\n",
    "history = model.fit(X_train, y_train, epochs = 5, batch_size = 32, validation_split = 0.15, verbose = 2)"
   ]
  },
  {
   "cell_type": "code",
   "execution_count": 33,
   "metadata": {},
   "outputs": [
    {
     "name": "stdout",
     "output_type": "stream",
     "text": [
      "478/478 [==============================] - 1s 2ms/step - loss: 0.0944 - acc: 0.9767\n"
     ]
    },
    {
     "data": {
      "text/plain": [
       "[0.0943727120757103, 0.9766954779624939]"
      ]
     },
     "execution_count": 33,
     "metadata": {},
     "output_type": "execute_result"
    }
   ],
   "source": [
    "acc = model.evaluate(X_train, y_train)\n",
    "acc"
   ]
  },
  {
   "cell_type": "code",
   "execution_count": 34,
   "metadata": {},
   "outputs": [
    {
     "data": {
      "text/plain": [
       "<matplotlib.legend.Legend at 0x21fbf1a8d00>"
      ]
     },
     "execution_count": 34,
     "metadata": {},
     "output_type": "execute_result"
    },
    {
     "data": {
      "image/png": "[encoded data removed]",
      "text/plain": [
       "<Figure size 432x288 with 1 Axes>"
      ]
     },
     "metadata": {
      "needs_background": "light"
     },
     "output_type": "display_data"
    }
   ],
   "source": [
    "plt.figure(\"Model training\")\n",
    "plt.ylabel(\"training error\")\n",
    "plt.xlabel(\"epoch\")\n",
    "for i in history.history.keys():\n",
    "    plt.plot(history.history[i], label = i)\n",
    "plt.legend(loc = \"best\")"
   ]
  },
  {
   "cell_type": "code",
   "execution_count": 35,
   "metadata": {},
   "outputs": [
    {
     "name": "stdout",
     "output_type": "stream",
     "text": [
      "120/120 [==============================] - 0s 2ms/step - loss: 0.2242 - acc: 0.9419\n"
     ]
    },
    {
     "data": {
      "text/plain": [
       "[0.2242259532213211, 0.9418696165084839]"
      ]
     },
     "execution_count": 35,
     "metadata": {},
     "output_type": "execute_result"
    }
   ],
   "source": [
    "acc_test = model.evaluate(X_test, y_test)\n",
    "acc_test"
   ]
  },
  {
   "cell_type": "code",
   "execution_count": 36,
   "metadata": {},
   "outputs": [
    {
     "name": "stdout",
     "output_type": "stream",
     "text": [
      "Negative  Neutral  Positive\n",
      "[[ 393   34   44]\n",
      " [  23 1571   54]\n",
      " [  30   37 1633]]\n"
     ]
    }
   ],
   "source": [
    "y_pred = model.predict(X_test) \n",
    "y_pred = np.argmax(y_pred, axis = 1)\n",
    "y_test = np.argmax(y_test, axis = 1)\n",
    "confusionM = confusion_matrix(y_test, y_pred)\n",
    "print(\"Negative  Neutral  Positive\")\n",
    "print(confusionM)"
   ]
  },
  {
   "cell_type": "code",
   "execution_count": 37,
   "metadata": {},
   "outputs": [
    {
     "name": "stdout",
     "output_type": "stream",
     "text": [
      "              precision    recall  f1-score   support\n",
      "\n",
      "           0       0.88      0.83      0.86       471\n",
      "           1       0.96      0.95      0.96      1648\n",
      "           2       0.94      0.96      0.95      1700\n",
      "\n",
      "    accuracy                           0.94      3819\n",
      "   macro avg       0.93      0.92      0.92      3819\n",
      "weighted avg       0.94      0.94      0.94      3819\n",
      "\n"
     ]
    }
   ],
   "source": [
    "print(classification_report(y_test, y_pred))"
   ]
  },
  {
   "cell_type": "code",
   "execution_count": 38,
   "metadata": {},
   "outputs": [
    {
     "data": {
      "text/plain": [
       "array([0, 2, 1, ..., 2, 1, 1], dtype=int64)"
      ]
     },
     "execution_count": 38,
     "metadata": {},
     "output_type": "execute_result"
    }
   ],
   "source": [
    "y_pred"
   ]
  },
  {
   "cell_type": "code",
   "execution_count": 39,
   "metadata": {},
   "outputs": [
    {
     "data": {
      "text/html": [
       "<div>\n",
       "<style scoped>\n",
       "    .dataframe tbody tr th:only-of-type {\n",
       "        vertical-align: middle;\n",
       "    }\n",
       "\n",
       "    .dataframe tbody tr th {\n",
       "        vertical-align: top;\n",
       "    }\n",
       "\n",
       "    .dataframe thead th {\n",
       "        text-align: right;\n",
       "    }\n",
       "</style>\n",
       "<table border=\"1\" class=\"dataframe\">\n",
       "  <thead>\n",
       "    <tr style=\"text-align: right;\">\n",
       "      <th></th>\n",
       "      <th>date</th>\n",
       "      <th>tweet</th>\n",
       "      <th>Sentiment</th>\n",
       "    </tr>\n",
       "  </thead>\n",
       "  <tbody>\n",
       "    <tr>\n",
       "      <th>0</th>\n",
       "      <td>2018-12-30 20:08:16</td>\n",
       "      <td>thanks tesla owners china looking forward visiting soon groundbreaking gigafactory shanghai</td>\n",
       "      <td>Positive</td>\n",
       "    </tr>\n",
       "    <tr>\n",
       "      <th>1</th>\n",
       "      <td>2018-12-30 19:27:46</td>\n",
       "      <td>turns take dayquil exit matrix</td>\n",
       "      <td>Neutral</td>\n",
       "    </tr>\n",
       "    <tr>\n",
       "      <th>2</th>\n",
       "      <td>2018-12-28 18:16:38</td>\n",
       "      <td>excited larry ellison amp kathleen wilsonthompson join tesla board</td>\n",
       "      <td>Positive</td>\n",
       "    </tr>\n",
       "    <tr>\n",
       "      <th>3</th>\n",
       "      <td>2018-12-28 05:53:59</td>\n",
       "      <td>ok</td>\n",
       "      <td>Positive</td>\n",
       "    </tr>\n",
       "    <tr>\n",
       "      <th>4</th>\n",
       "      <td>2018-12-27 21:00:00</td>\n",
       "      <td>tesla team great job</td>\n",
       "      <td>Positive</td>\n",
       "    </tr>\n",
       "    <tr>\n",
       "      <th>...</th>\n",
       "      <td>...</td>\n",
       "      <td>...</td>\n",
       "      <td>...</td>\n",
       "    </tr>\n",
       "    <tr>\n",
       "      <th>3110</th>\n",
       "      <td>2021-01-02 00:00:00</td>\n",
       "      <td>tesla responsible  personal amp professional pain life combined worth it</td>\n",
       "      <td>Positive</td>\n",
       "    </tr>\n",
       "    <tr>\n",
       "      <th>3111</th>\n",
       "      <td>2021-01-02 00:00:00</td>\n",
       "      <td>proud tesla team achieving major milestone start tesla thought optimistically chance surviving all</td>\n",
       "      <td>Positive</td>\n",
       "    </tr>\n",
       "    <tr>\n",
       "      <th>3112</th>\n",
       "      <td>2021-01-02 00:00:00</td>\n",
       "      <td>um giant fusion reactor sky works maintenance</td>\n",
       "      <td>Neutral</td>\n",
       "    </tr>\n",
       "    <tr>\n",
       "      <th>3113</th>\n",
       "      <td>2021-01-02 00:00:00</td>\n",
       "      <td>ai tesla full selfdriving work safety level well average driver year confident can’t speak regulators though</td>\n",
       "      <td>Positive</td>\n",
       "    </tr>\n",
       "    <tr>\n",
       "      <th>3114</th>\n",
       "      <td>2021-01-01 00:00:00</td>\n",
       "      <td>dojo isn’t needed make selfdriving better isn’t enough safer human drivers autopilot ultimately needs times safer human drivers</td>\n",
       "      <td>Positive</td>\n",
       "    </tr>\n",
       "  </tbody>\n",
       "</table>\n",
       "<p>19095 rows × 3 columns</p>\n",
       "</div>"
      ],
      "text/plain": [
       "                    date  \\\n",
       "0    2018-12-30 20:08:16   \n",
       "1    2018-12-30 19:27:46   \n",
       "2    2018-12-28 18:16:38   \n",
       "3    2018-12-28 05:53:59   \n",
       "4    2018-12-27 21:00:00   \n",
       "...                  ...   \n",
       "3110 2021-01-02 00:00:00   \n",
       "3111 2021-01-02 00:00:00   \n",
       "3112 2021-01-02 00:00:00   \n",
       "3113 2021-01-02 00:00:00   \n",
       "3114 2021-01-01 00:00:00   \n",
       "\n",
       "                                                                                                                                tweet  \\\n",
       "0      thanks tesla owners china looking forward visiting soon groundbreaking gigafactory shanghai                                      \n",
       "1     turns take dayquil exit matrix                                                                                                    \n",
       "2     excited larry ellison amp kathleen wilsonthompson join tesla board                                                                \n",
       "3     ok                                                                                                                                \n",
       "4     tesla team great job                                                                                                              \n",
       "...                    ...                                                                                                              \n",
       "3110  tesla responsible  personal amp professional pain life combined worth it                                                          \n",
       "3111  proud tesla team achieving major milestone start tesla thought optimistically chance surviving all                                \n",
       "3112  um giant fusion reactor sky works maintenance                                                                                     \n",
       "3113  ai tesla full selfdriving work safety level well average driver year confident can’t speak regulators though                      \n",
       "3114  dojo isn’t needed make selfdriving better isn’t enough safer human drivers autopilot ultimately needs times safer human drivers   \n",
       "\n",
       "     Sentiment  \n",
       "0     Positive  \n",
       "1     Neutral   \n",
       "2     Positive  \n",
       "3     Positive  \n",
       "4     Positive  \n",
       "...        ...  \n",
       "3110  Positive  \n",
       "3111  Positive  \n",
       "3112  Neutral   \n",
       "3113  Positive  \n",
       "3114  Positive  \n",
       "\n",
       "[19095 rows x 3 columns]"
      ]
     },
     "execution_count": 39,
     "metadata": {},
     "output_type": "execute_result"
    }
   ],
   "source": [
    "data[\"date\"] = data[\"date\"].astype(\"datetime64\")\n",
    "\n",
    "data"
   ]
  },
  {
   "cell_type": "code",
   "execution_count": 40,
   "metadata": {},
   "outputs": [
    {
     "data": {
      "image/png": "[encoded data removed]",
      "text/plain": [
       "<Figure size 1296x432 with 1 Axes>"
      ]
     },
     "metadata": {
      "needs_background": "light"
     },
     "output_type": "display_data"
    }
   ],
   "source": [
    "tweet_df = data.groupby(pd.Grouper(key=\"date\",freq = \"5 min\", convention=\"start\")).size()\n",
    "tweet_df.plot(figsize=(18,6))\n",
    "plt.ylabel(\"number of tweets\")\n",
    "plt.title(\"Elon musk tweets\")\n",
    "plt.grid(True)"
   ]
  },
  {
   "cell_type": "code",
   "execution_count": 41,
   "metadata": {},
   "outputs": [],
   "source": [
    "tsla_data = pd.read_csv(\"TSLA.csv\")"
   ]
  },
  {
   "cell_type": "code",
   "execution_count": 42,
   "metadata": {},
   "outputs": [
    {
     "data": {
      "text/html": [
       "<div>\n",
       "<style scoped>\n",
       "    .dataframe tbody tr th:only-of-type {\n",
       "        vertical-align: middle;\n",
       "    }\n",
       "\n",
       "    .dataframe tbody tr th {\n",
       "        vertical-align: top;\n",
       "    }\n",
       "\n",
       "    .dataframe thead th {\n",
       "        text-align: right;\n",
       "    }\n",
       "</style>\n",
       "<table border=\"1\" class=\"dataframe\">\n",
       "  <thead>\n",
       "    <tr style=\"text-align: right;\">\n",
       "      <th></th>\n",
       "      <th>Date</th>\n",
       "      <th>Open</th>\n",
       "      <th>High</th>\n",
       "      <th>Low</th>\n",
       "      <th>Close</th>\n",
       "      <th>Adj Close</th>\n",
       "      <th>Volume</th>\n",
       "    </tr>\n",
       "  </thead>\n",
       "  <tbody>\n",
       "    <tr>\n",
       "      <th>0</th>\n",
       "      <td>2018-01-02</td>\n",
       "      <td>62.400002</td>\n",
       "      <td>64.421997</td>\n",
       "      <td>62.200001</td>\n",
       "      <td>64.106003</td>\n",
       "      <td>64.106003</td>\n",
       "      <td>21761000</td>\n",
       "    </tr>\n",
       "    <tr>\n",
       "      <th>1</th>\n",
       "      <td>2018-01-03</td>\n",
       "      <td>64.199997</td>\n",
       "      <td>65.050003</td>\n",
       "      <td>63.110001</td>\n",
       "      <td>63.450001</td>\n",
       "      <td>63.450001</td>\n",
       "      <td>22607500</td>\n",
       "    </tr>\n",
       "    <tr>\n",
       "      <th>2</th>\n",
       "      <td>2018-01-04</td>\n",
       "      <td>62.574001</td>\n",
       "      <td>63.709999</td>\n",
       "      <td>61.136002</td>\n",
       "      <td>62.924000</td>\n",
       "      <td>62.924000</td>\n",
       "      <td>49731500</td>\n",
       "    </tr>\n",
       "    <tr>\n",
       "      <th>3</th>\n",
       "      <td>2018-01-05</td>\n",
       "      <td>63.324001</td>\n",
       "      <td>63.448002</td>\n",
       "      <td>62.400002</td>\n",
       "      <td>63.316002</td>\n",
       "      <td>63.316002</td>\n",
       "      <td>22956000</td>\n",
       "    </tr>\n",
       "    <tr>\n",
       "      <th>4</th>\n",
       "      <td>2018-01-08</td>\n",
       "      <td>63.200001</td>\n",
       "      <td>67.403999</td>\n",
       "      <td>63.099998</td>\n",
       "      <td>67.281998</td>\n",
       "      <td>67.281998</td>\n",
       "      <td>49297000</td>\n",
       "    </tr>\n",
       "    <tr>\n",
       "      <th>...</th>\n",
       "      <td>...</td>\n",
       "      <td>...</td>\n",
       "      <td>...</td>\n",
       "      <td>...</td>\n",
       "      <td>...</td>\n",
       "      <td>...</td>\n",
       "      <td>...</td>\n",
       "    </tr>\n",
       "    <tr>\n",
       "      <th>1002</th>\n",
       "      <td>2021-12-23</td>\n",
       "      <td>1006.799988</td>\n",
       "      <td>1072.979980</td>\n",
       "      <td>997.559998</td>\n",
       "      <td>1067.000000</td>\n",
       "      <td>1067.000000</td>\n",
       "      <td>30904400</td>\n",
       "    </tr>\n",
       "    <tr>\n",
       "      <th>1003</th>\n",
       "      <td>2021-12-27</td>\n",
       "      <td>1073.670044</td>\n",
       "      <td>1117.000000</td>\n",
       "      <td>1070.719971</td>\n",
       "      <td>1093.939941</td>\n",
       "      <td>1093.939941</td>\n",
       "      <td>23715300</td>\n",
       "    </tr>\n",
       "    <tr>\n",
       "      <th>1004</th>\n",
       "      <td>2021-12-28</td>\n",
       "      <td>1109.489990</td>\n",
       "      <td>1119.000000</td>\n",
       "      <td>1078.420044</td>\n",
       "      <td>1088.469971</td>\n",
       "      <td>1088.469971</td>\n",
       "      <td>20108000</td>\n",
       "    </tr>\n",
       "    <tr>\n",
       "      <th>1005</th>\n",
       "      <td>2021-12-29</td>\n",
       "      <td>1098.640015</td>\n",
       "      <td>1104.000000</td>\n",
       "      <td>1064.140015</td>\n",
       "      <td>1086.189941</td>\n",
       "      <td>1086.189941</td>\n",
       "      <td>18718000</td>\n",
       "    </tr>\n",
       "    <tr>\n",
       "      <th>1006</th>\n",
       "      <td>2021-12-30</td>\n",
       "      <td>1061.329956</td>\n",
       "      <td>1095.550049</td>\n",
       "      <td>1053.150024</td>\n",
       "      <td>1070.339966</td>\n",
       "      <td>1070.339966</td>\n",
       "      <td>15680300</td>\n",
       "    </tr>\n",
       "  </tbody>\n",
       "</table>\n",
       "<p>1007 rows × 7 columns</p>\n",
       "</div>"
      ],
      "text/plain": [
       "            Date         Open         High          Low        Close  \\\n",
       "0     2018-01-02  62.400002    64.421997    62.200001    64.106003     \n",
       "1     2018-01-03  64.199997    65.050003    63.110001    63.450001     \n",
       "2     2018-01-04  62.574001    63.709999    61.136002    62.924000     \n",
       "3     2018-01-05  63.324001    63.448002    62.400002    63.316002     \n",
       "4     2018-01-08  63.200001    67.403999    63.099998    67.281998     \n",
       "...          ...        ...          ...          ...          ...     \n",
       "1002  2021-12-23  1006.799988  1072.979980  997.559998   1067.000000   \n",
       "1003  2021-12-27  1073.670044  1117.000000  1070.719971  1093.939941   \n",
       "1004  2021-12-28  1109.489990  1119.000000  1078.420044  1088.469971   \n",
       "1005  2021-12-29  1098.640015  1104.000000  1064.140015  1086.189941   \n",
       "1006  2021-12-30  1061.329956  1095.550049  1053.150024  1070.339966   \n",
       "\n",
       "        Adj Close    Volume  \n",
       "0     64.106003    21761000  \n",
       "1     63.450001    22607500  \n",
       "2     62.924000    49731500  \n",
       "3     63.316002    22956000  \n",
       "4     67.281998    49297000  \n",
       "...         ...         ...  \n",
       "1002  1067.000000  30904400  \n",
       "1003  1093.939941  23715300  \n",
       "1004  1088.469971  20108000  \n",
       "1005  1086.189941  18718000  \n",
       "1006  1070.339966  15680300  \n",
       "\n",
       "[1007 rows x 7 columns]"
      ]
     },
     "execution_count": 42,
     "metadata": {},
     "output_type": "execute_result"
    }
   ],
   "source": [
    "tsla_data"
   ]
  },
  {
   "cell_type": "code",
   "execution_count": 43,
   "metadata": {},
   "outputs": [],
   "source": [
    "tsla_data = tsla_data[[\"Date\", \"Close\"]]"
   ]
  },
  {
   "cell_type": "code",
   "execution_count": 44,
   "metadata": {},
   "outputs": [
    {
     "data": {
      "text/html": [
       "<div>\n",
       "<style scoped>\n",
       "    .dataframe tbody tr th:only-of-type {\n",
       "        vertical-align: middle;\n",
       "    }\n",
       "\n",
       "    .dataframe tbody tr th {\n",
       "        vertical-align: top;\n",
       "    }\n",
       "\n",
       "    .dataframe thead th {\n",
       "        text-align: right;\n",
       "    }\n",
       "</style>\n",
       "<table border=\"1\" class=\"dataframe\">\n",
       "  <thead>\n",
       "    <tr style=\"text-align: right;\">\n",
       "      <th></th>\n",
       "      <th>Close</th>\n",
       "    </tr>\n",
       "    <tr>\n",
       "      <th>Date</th>\n",
       "      <th></th>\n",
       "    </tr>\n",
       "  </thead>\n",
       "  <tbody>\n",
       "    <tr>\n",
       "      <th>2018-01-02</th>\n",
       "      <td>64.106003</td>\n",
       "    </tr>\n",
       "    <tr>\n",
       "      <th>2018-01-03</th>\n",
       "      <td>63.450001</td>\n",
       "    </tr>\n",
       "    <tr>\n",
       "      <th>2018-01-04</th>\n",
       "      <td>62.924000</td>\n",
       "    </tr>\n",
       "    <tr>\n",
       "      <th>2018-01-05</th>\n",
       "      <td>63.316002</td>\n",
       "    </tr>\n",
       "    <tr>\n",
       "      <th>2018-01-08</th>\n",
       "      <td>67.281998</td>\n",
       "    </tr>\n",
       "    <tr>\n",
       "      <th>...</th>\n",
       "      <td>...</td>\n",
       "    </tr>\n",
       "    <tr>\n",
       "      <th>2021-12-23</th>\n",
       "      <td>1067.000000</td>\n",
       "    </tr>\n",
       "    <tr>\n",
       "      <th>2021-12-27</th>\n",
       "      <td>1093.939941</td>\n",
       "    </tr>\n",
       "    <tr>\n",
       "      <th>2021-12-28</th>\n",
       "      <td>1088.469971</td>\n",
       "    </tr>\n",
       "    <tr>\n",
       "      <th>2021-12-29</th>\n",
       "      <td>1086.189941</td>\n",
       "    </tr>\n",
       "    <tr>\n",
       "      <th>2021-12-30</th>\n",
       "      <td>1070.339966</td>\n",
       "    </tr>\n",
       "  </tbody>\n",
       "</table>\n",
       "<p>1007 rows × 1 columns</p>\n",
       "</div>"
      ],
      "text/plain": [
       "                  Close\n",
       "Date                   \n",
       "2018-01-02  64.106003  \n",
       "2018-01-03  63.450001  \n",
       "2018-01-04  62.924000  \n",
       "2018-01-05  63.316002  \n",
       "2018-01-08  67.281998  \n",
       "...               ...  \n",
       "2021-12-23  1067.000000\n",
       "2021-12-27  1093.939941\n",
       "2021-12-28  1088.469971\n",
       "2021-12-29  1086.189941\n",
       "2021-12-30  1070.339966\n",
       "\n",
       "[1007 rows x 1 columns]"
      ]
     },
     "execution_count": 44,
     "metadata": {},
     "output_type": "execute_result"
    }
   ],
   "source": [
    "#tsla_data[\"Date\"] = tsla_data[\"Date\"].astype(\"datetime64\")\n",
    " \n",
    "# Setting the Date as index\n",
    "\n",
    "tsla_data = tsla_data.set_index(\"Date\")\n",
    "tsla_data"
   ]
  },
  {
   "cell_type": "code",
   "execution_count": 45,
   "metadata": {},
   "outputs": [
    {
     "data": {
      "image/png": "[encoded data removed]",
      "text/plain": [
       "<Figure size 1296x432 with 1 Axes>"
      ]
     },
     "metadata": {
      "needs_background": "light"
     },
     "output_type": "display_data"
    }
   ],
   "source": [
    "tsla_data.plot(figsize=(18,6))\n",
    "\n",
    "plt.xlabel(\"Date\")\n",
    "plt.ylabel(\"Closing price\")\n",
    "plt.title(\"Tesla stock price\")\n",
    "\n",
    "# Display\n",
    "\n",
    "plt.show()"
   ]
  }
 ],
 "metadata": {
  "kernelspec": {
   "display_name": "Python 3",
   "language": "python",
   "name": "python3"
  },
  "language_info": {
   "codemirror_mode": {
    "name": "ipython",
    "version": 3
   },
   "file_extension": ".py",
   "mimetype": "text/x-python",
   "name": "python",
   "nbconvert_exporter": "python",
   "pygments_lexer": "ipython3",
   "version": "3.9.13"
  }
 },
 "nbformat": 4,
 "nbformat_minor": 5
}
